{
 "cells": [
  {
   "cell_type": "markdown",
   "id": "078ea958",
   "metadata": {},
   "source": [
    "# Sandbox to work with Regulations.gov API"
   ]
  },
  {
   "cell_type": "code",
   "execution_count": 6,
   "id": "378e447a-d4e1-430b-ba00-3fdfdf100c41",
   "metadata": {},
   "outputs": [],
   "source": [
    "from dotenv import dotenv_values\n",
    "\n",
    "config = dotenv_values(\".env\") \n"
   ]
  },
  {
   "cell_type": "code",
   "execution_count": 7,
   "id": "0ec47519",
   "metadata": {},
   "outputs": [],
   "source": [
    "import requests"
   ]
  },
  {
   "cell_type": "markdown",
   "id": "f5361023",
   "metadata": {},
   "source": [
    "# Retrieve documents in docket"
   ]
  },
  {
   "cell_type": "code",
   "execution_count": 21,
   "id": "46cc3507",
   "metadata": {},
   "outputs": [],
   "source": [
    "# Some hardcoded configuration for the GMO notice\n",
    "# https://www.regulations.gov/document/FDA-2000-D-0075\n",
    "\n",
    "docket_id = \"FDA-2000-D-0075\""
   ]
  },
  {
   "cell_type": "code",
   "execution_count": 65,
   "id": "2ae87db2",
   "metadata": {},
   "outputs": [],
   "source": [
    "# Starting with a docket, retrieve the objects\n",
    "docket_object_url = config['BASE_URL']+\"documents?filter[docketId]=\"+docket_id\n",
    "\n",
    "payload={}\n",
    "headers = {\n",
    "  'X-Api-Key': config['API_KEY']\n",
    "}\n",
    "\n",
    "response = requests.request(\"GET\", docket_object_url, headers=headers, data=payload)\n",
    "docket_contents = response.json()\n"
   ]
  },
  {
   "cell_type": "code",
   "execution_count": 56,
   "id": "b44feaa6",
   "metadata": {},
   "outputs": [
    {
     "data": {
      "text/plain": [
       "[{'documentType': 'Notice',\n",
       "  'lastModifiedDate': '2015-10-10T19:27:31Z',\n",
       "  'highlightedContent': '',\n",
       "  'frDocNum': None,\n",
       "  'withdrawn': False,\n",
       "  'agencyId': 'FDA',\n",
       "  'commentEndDate': '2003-12-02T04:59:59Z',\n",
       "  'title': 'Agency Information Collection Activities; Submission for Office of Management and Budget Review; Comment Request; Suggested Documentation for Substantiating Whether Foods Have or Have Not Been Developed Using Bioengineering',\n",
       "  'postedDate': '2003-11-07T05:00:00Z',\n",
       "  'docketId': 'FDA-2000-D-0075',\n",
       "  'subtype': 'N-Notice',\n",
       "  'commentStartDate': '2003-10-31T05:00:00Z',\n",
       "  'openForComment': False,\n",
       "  'objectId': '09000064804b0347'},\n",
       " {'documentType': 'Notice',\n",
       "  'lastModifiedDate': '2016-02-04T22:01:53Z',\n",
       "  'highlightedContent': '',\n",
       "  'frDocNum': '2016-01786',\n",
       "  'withdrawn': False,\n",
       "  'agencyId': 'FDA',\n",
       "  'commentEndDate': None,\n",
       "  'title': 'Agency Information Collection Activities; Announcement of Office of\\nManagement and Budget Approval; Voluntary Labeling Indicating Whether Foods Have or Have Not Been Derived From Genetically Engineered Plants',\n",
       "  'postedDate': '2016-02-02T05:00:00Z',\n",
       "  'docketId': 'FDA-2000-D-0075',\n",
       "  'subtype': 'Notice of Approval',\n",
       "  'commentStartDate': '2016-02-02T05:00:00Z',\n",
       "  'openForComment': False,\n",
       "  'objectId': '0900006481e44df8'},\n",
       " {'documentType': 'Other',\n",
       "  'lastModifiedDate': '2012-04-20T15:42:49Z',\n",
       "  'highlightedContent': '',\n",
       "  'frDocNum': None,\n",
       "  'withdrawn': False,\n",
       "  'agencyId': 'FDA',\n",
       "  'commentEndDate': None,\n",
       "  'title': 'Background Material - FDA/CFSAN',\n",
       "  'postedDate': '2012-04-20T04:00:00Z',\n",
       "  'docketId': 'FDA-2000-D-0075',\n",
       "  'subtype': 'Background Material',\n",
       "  'commentStartDate': '2012-04-20T04:00:00Z',\n",
       "  'openForComment': False,\n",
       "  'objectId': '09000064804b051f'},\n",
       " {'documentType': 'Other',\n",
       "  'lastModifiedDate': '2015-12-29T21:48:40Z',\n",
       "  'highlightedContent': '',\n",
       "  'frDocNum': None,\n",
       "  'withdrawn': False,\n",
       "  'agencyId': 'FDA',\n",
       "  'commentEndDate': None,\n",
       "  'title': 'Request for Extension from Josh Wilson',\n",
       "  'postedDate': '2015-12-29T05:00:00Z',\n",
       "  'docketId': 'FDA-2000-D-0075',\n",
       "  'subtype': 'Request for Extension',\n",
       "  'commentStartDate': '2015-12-29T05:00:00Z',\n",
       "  'openForComment': False,\n",
       "  'objectId': '0900006481dcfb1d'},\n",
       " {'documentType': 'Notice',\n",
       "  'lastModifiedDate': '2019-04-23T14:24:28Z',\n",
       "  'highlightedContent': '',\n",
       "  'frDocNum': '2015-29903',\n",
       "  'withdrawn': False,\n",
       "  'agencyId': 'FDA',\n",
       "  'commentEndDate': '2015-12-25T04:59:59Z',\n",
       "  'title': 'Voluntary Labeling Indicating Whether Foods Have or Have Not Been Derived From Genetically Engineered Plants; Guidance for Industry; Availability',\n",
       "  'postedDate': '2019-03-11T04:00:00Z',\n",
       "  'docketId': 'FDA-2000-D-0075',\n",
       "  'subtype': 'Notice of Availability',\n",
       "  'commentStartDate': '2015-11-24T05:00:00Z',\n",
       "  'openForComment': False,\n",
       "  'objectId': '0900006481d6d343'},\n",
       " {'documentType': 'Notice',\n",
       "  'lastModifiedDate': '2010-04-28T20:00:53Z',\n",
       "  'highlightedContent': '',\n",
       "  'frDocNum': None,\n",
       "  'withdrawn': False,\n",
       "  'agencyId': 'FDA',\n",
       "  'commentEndDate': None,\n",
       "  'title': 'Agency Information Collection Activities; Submission for Office of Management and Budget Review; Comment Request; Suggested Documentation for Substantiating Whether Foods Have or Have Not Been Developed Using Bioengineering; Withdrawal',\n",
       "  'postedDate': '2003-12-08T05:00:00Z',\n",
       "  'docketId': 'FDA-2000-D-0075',\n",
       "  'subtype': 'NWL-Notice of Withdrawl',\n",
       "  'commentStartDate': '2003-11-20T05:00:00Z',\n",
       "  'openForComment': False,\n",
       "  'objectId': '09000064804b7783'},\n",
       " {'documentType': 'Notice',\n",
       "  'lastModifiedDate': '2019-04-23T17:04:29Z',\n",
       "  'highlightedContent': '',\n",
       "  'frDocNum': 'FR Doc. 01–1047',\n",
       "  'withdrawn': False,\n",
       "  'agencyId': 'FDA',\n",
       "  'commentEndDate': None,\n",
       "  'title': 'Draft Guidance for Industry: Voluntary Labeling Indicating Whether Foods Have or Have Not Been Developed Using Bioengineering; Availability',\n",
       "  'postedDate': '2010-04-28T04:00:00Z',\n",
       "  'docketId': 'FDA-2000-D-0075',\n",
       "  'subtype': 'Notice of Availability',\n",
       "  'commentStartDate': '2010-04-28T04:00:00Z',\n",
       "  'openForComment': False,\n",
       "  'objectId': '0900006480ae2e54'},\n",
       " {'documentType': 'Other',\n",
       "  'lastModifiedDate': '2020-07-28T01:01:55Z',\n",
       "  'highlightedContent': '',\n",
       "  'frDocNum': None,\n",
       "  'withdrawn': False,\n",
       "  'agencyId': 'FDA',\n",
       "  'commentEndDate': None,\n",
       "  'title': 'Guidance for Industry: Voluntary Labeling Indicating Whether Foods Have or Have Not Been Derived from Genetically Engineered Plants',\n",
       "  'postedDate': '2019-03-11T04:00:00Z',\n",
       "  'docketId': 'FDA-2000-D-0075',\n",
       "  'subtype': 'Guidance',\n",
       "  'commentStartDate': '2019-03-11T04:00:00Z',\n",
       "  'openForComment': False,\n",
       "  'objectId': '09000064804b7421'}]"
      ]
     },
     "execution_count": 56,
     "metadata": {},
     "output_type": "execute_result"
    }
   ],
   "source": [
    "documents = [x['attributes'] for x in docket_contents['data'] if x['attributes']['commentStartDate'] not in ['null', 'None', None]]\n",
    "documents\n",
    "    "
   ]
  },
  {
   "cell_type": "markdown",
   "id": "dac75db6",
   "metadata": {},
   "source": [
    "# Retrieve comments on each docket document"
   ]
  },
  {
   "cell_type": "code",
   "execution_count": 74,
   "id": "05b09606",
   "metadata": {},
   "outputs": [],
   "source": [
    "comments_url = config['BASE_URL']+\"comments?filter[commentOnId]=\"+documents[0]['objectId']\n",
    "\n",
    "comment_response = requests.request(\"GET\", comments_url, headers=headers, data=payload)\n",
    "comment_data = comment_response.json()"
   ]
  },
  {
   "cell_type": "code",
   "execution_count": 75,
   "id": "d39b3bba",
   "metadata": {},
   "outputs": [
    {
     "data": {
      "text/plain": [
       "{'data': [{'id': 'FDA-2000-D-0075-0003',\n",
       "   'type': 'comments',\n",
       "   'attributes': {'documentType': 'Public Submission',\n",
       "    'lastModifiedDate': '2008-04-25T00:56:16Z',\n",
       "    'highlightedContent': '',\n",
       "    'withdrawn': False,\n",
       "    'agencyId': 'FDA',\n",
       "    'title': 'FDA/CFSAN to Z Karpukhina - Comment',\n",
       "    'objectId': '09000064804b77b1',\n",
       "    'postedDate': '2006-08-17T04:00:00Z'},\n",
       "   'links': {'self': 'https://api.regulations.gov/v4/comments/FDA-2000-D-0075-0003'}},\n",
       "  {'id': 'FDA-2000-D-0075-0005',\n",
       "   'type': 'comments',\n",
       "   'attributes': {'documentType': 'Public Submission',\n",
       "    'lastModifiedDate': '2008-04-25T00:55:23Z',\n",
       "    'highlightedContent': '',\n",
       "    'withdrawn': False,\n",
       "    'agencyId': 'FDA',\n",
       "    'title': 'FDA/CFSAN to Kasia Ciaston - Comment',\n",
       "    'objectId': '09000064804b77ba',\n",
       "    'postedDate': '2007-03-02T05:00:00Z'},\n",
       "   'links': {'self': 'https://api.regulations.gov/v4/comments/FDA-2000-D-0075-0005'}},\n",
       "  {'id': 'FDA-2000-D-0075-0004',\n",
       "   'type': 'comments',\n",
       "   'attributes': {'documentType': 'Public Submission',\n",
       "    'lastModifiedDate': '2008-04-25T00:57:11Z',\n",
       "    'highlightedContent': '',\n",
       "    'withdrawn': False,\n",
       "    'agencyId': 'FDA',\n",
       "    'title': 'FDA/CFSAN to Z Karpukhina - Comment',\n",
       "    'objectId': '09000064804b77b4',\n",
       "    'postedDate': '2006-08-17T04:00:00Z'},\n",
       "   'links': {'self': 'https://api.regulations.gov/v4/comments/FDA-2000-D-0075-0004'}}],\n",
       " 'meta': {'aggregations': {'agencyId': [{'docCount': 3, 'value': 'FDA'}],\n",
       "   'postedDate': []},\n",
       "  'filters': {},\n",
       "  'hasNextPage': False,\n",
       "  'hasPreviousPage': False,\n",
       "  'numberOfElements': 3,\n",
       "  'pageNumber': 1,\n",
       "  'pageSize': 25,\n",
       "  'totalElements': 3,\n",
       "  'totalPages': 1,\n",
       "  'firstPage': True,\n",
       "  'lastPage': True}}"
      ]
     },
     "execution_count": 75,
     "metadata": {},
     "output_type": "execute_result"
    }
   ],
   "source": [
    "comment_data"
   ]
  },
  {
   "cell_type": "markdown",
   "id": "206c77e8",
   "metadata": {},
   "source": [
    "# Get comment details"
   ]
  },
  {
   "cell_type": "code",
   "execution_count": 78,
   "id": "594608fa",
   "metadata": {},
   "outputs": [
    {
     "data": {
      "text/plain": [
       "'Policies regarding labeling of foods which may or may not contain ingredients derived from genetically engineered plants should remain voluntary, and should not be mandated by state or federal agencies. And if a food manufacturer wishes to voluntarily label a food product as containing, or not containing, ingredients derived from genetic engineering, the additional costs associated with the label should be borne by the manufacturer, which should be allowed to pass that additional cost along to the end-user of the product. If advocates of organic or natural foods wish to exclude GE foods or ingredients from their diet, they can achieve that goal by consuming foods which carry a voluntary &quot;no-GMO&quot; label. The FDA should continue to adhere to &quot;product-driven&quot; labeling guidelines, in which the manufacturing process is not relevant if two products (a GE product, and its non-GE counterpart) are materially equivalent. '"
      ]
     },
     "execution_count": 78,
     "metadata": {},
     "output_type": "execute_result"
    }
   ],
   "source": [
    "# attachment_comment_id = comment_data['data'][0]['id']\n",
    "no_attachment_comment_id = 'FDA-2000-D-0075-0048'\n",
    "\n",
    "comment_id = no_attachment_comment_id\n",
    "comments_detail_url = config['BASE_URL']+\"comments/\"+comment_id\n",
    "\n",
    "comment_detail_response = requests.request(\"GET\", comments_detail_url, headers=headers, data=payload)\n",
    "comment_detail = comment_detail_response.json()\n",
    "comment_detail['data']['attributes']['comment']\n"
   ]
  },
  {
   "cell_type": "code",
   "execution_count": null,
   "id": "8744455a",
   "metadata": {},
   "outputs": [],
   "source": []
  }
 ],
 "metadata": {
  "kernelspec": {
   "display_name": "Python 3 (ipykernel)",
   "language": "python",
   "name": "python3"
  },
  "language_info": {
   "codemirror_mode": {
    "name": "ipython",
    "version": 3
   },
   "file_extension": ".py",
   "mimetype": "text/x-python",
   "name": "python",
   "nbconvert_exporter": "python",
   "pygments_lexer": "ipython3",
   "version": "3.9.12"
  }
 },
 "nbformat": 4,
 "nbformat_minor": 5
}
